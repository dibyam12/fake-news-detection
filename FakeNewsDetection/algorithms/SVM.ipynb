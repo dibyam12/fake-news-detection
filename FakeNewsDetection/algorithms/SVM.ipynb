{
 "cells": [
  {
   "cell_type": "code",
   "execution_count": 1,
   "id": "dc415a49",
   "metadata": {},
   "outputs": [],
   "source": [
    "import pandas as pd\n",
    "import numpy as np\n",
    "from sklearn.model_selection import train_test_split\n",
    "from sklearn.metrics import accuracy_score, classification_report, confusion_matrix\n",
    "from sklearn.feature_extraction.text import TfidfVectorizer\n",
    "\n"
   ]
  },
  {
   "cell_type": "code",
   "execution_count": 2,
   "id": "f12360f1",
   "metadata": {},
   "outputs": [],
   "source": [
    "class CustomSVM:\n",
    "    def __init__(self, learning_rate=0.01, lambda_param=0.01, n_iters=20):\n",
    "        self.lr = learning_rate\n",
    "        self.lambda_param = lambda_param\n",
    "        self.n_iters = n_iters\n",
    "        self.w = None\n",
    "        self.b = None\n",
    "    \n",
    "    def fit(self, X, y):\n",
    "        n_samples, n_features = X.shape\n",
    "        self.w = np.zeros(n_features)\n",
    "        self.b = 0\n",
    "        \n",
    "        for _ in range(self.n_iters):\n",
    "            for idx, x_i in enumerate(X):\n",
    "                condition = y[idx] * (np.dot(x_i, self.w) - self.b) >= 1\n",
    "                if condition:\n",
    "                    self.w -= self.lr * (2 * self.lambda_param * self.w)\n",
    "                else:\n",
    "                    self.w -= self.lr * (2 * self.lambda_param * self.w - np.dot(x_i, y[idx]))\n",
    "                    self.b -= self.lr * y[idx]\n",
    "    \n",
    "    def predict(self, X, threshold=0.4):\n",
    "        approx = np.dot(X, self.w) - self.b\n",
    "        return np.where(approx > threshold, 1, -1)\n",
    "\n"
   ]
  },
  {
   "cell_type": "code",
   "execution_count": 3,
   "id": "46042c01",
   "metadata": {},
   "outputs": [],
   "source": [
    "# Load the datasets\n",
    "true_data = pd.read_csv('processedTrue.csv')\n",
    "fake_data = pd.read_csv('processedFake.csv')"
   ]
  },
  {
   "cell_type": "code",
   "execution_count": 4,
   "id": "236cf87e",
   "metadata": {},
   "outputs": [],
   "source": [
    "# Concatenate the datasets\n",
    "data = pd.concat([true_data, fake_data], ignore_index=True, sort=False)\n",
    "\n",
    "# Rename the columns\n",
    "data.columns = ['index', 'label', 'content']"
   ]
  },
  {
   "cell_type": "code",
   "execution_count": 5,
   "id": "a52abc5e",
   "metadata": {},
   "outputs": [],
   "source": [
    "# Extract features and labels\n",
    "X = data['content']\n",
    "y = data['label']\n",
    "\n",
    "# Convert label 0 to -1 for SVM\n",
    "y = np.where(y == 0, -1, 1)"
   ]
  },
  {
   "cell_type": "code",
   "execution_count": 6,
   "id": "30fbf399",
   "metadata": {},
   "outputs": [],
   "source": [
    "# Splitting the data into training and testing sets\n",
    "# Assuming 80% for training and 20% for testing\n",
    "X_train, X_test, y_train, y_test = train_test_split(X, y, test_size=0.2, random_state=42)"
   ]
  },
  {
   "cell_type": "code",
   "execution_count": 7,
   "id": "fb58b3f8",
   "metadata": {},
   "outputs": [],
   "source": []
  },
  {
   "cell_type": "code",
   "execution_count": 8,
   "id": "dedecc01",
   "metadata": {},
   "outputs": [],
   "source": [
    "# Vectorizing the text data\n",
    "vectorizer = TfidfVectorizer()\n",
    "X_train_vectorized = vectorizer.fit_transform(X_train)\n",
    "X_test_vectorized = vectorizer.transform(X_test)"
   ]
  },
  {
   "cell_type": "code",
   "execution_count": 9,
   "id": "703615ec",
   "metadata": {},
   "outputs": [],
   "source": [
    "# Creating an instance of the CustomSVM classifier\n",
    "custom_svm_classifier = CustomSVM()"
   ]
  },
  {
   "cell_type": "code",
   "execution_count": 10,
   "id": "91ec2f1b",
   "metadata": {},
   "outputs": [],
   "source": [
    "# Training the classifier\n",
    "custom_svm_classifier.fit(X_train_vectorized.toarray(), y_train)"
   ]
  },
  {
   "cell_type": "code",
   "execution_count": 11,
   "id": "87c9427a",
   "metadata": {},
   "outputs": [],
   "source": [
    "# Predicting on the test set with a threshold of 0.6\n",
    "y_pred = custom_svm_classifier.predict(X_test_vectorized.toarray(), threshold=0.6)"
   ]
  },
  {
   "cell_type": "code",
   "execution_count": 12,
   "id": "cdbc4430",
   "metadata": {},
   "outputs": [
    {
     "name": "stdout",
     "output_type": "stream",
     "text": [
      "Accuracy: 0.9080882352941176\n"
     ]
    }
   ],
   "source": [
    "# Calculating accuracy\n",
    "accuracy = accuracy_score(y_test, y_pred)\n",
    "print(\"Accuracy:\", accuracy)"
   ]
  },
  {
   "cell_type": "code",
   "execution_count": 28,
   "id": "4aafd11b",
   "metadata": {},
   "outputs": [
    {
     "name": "stdout",
     "output_type": "stream",
     "text": [
      "Training Accuracy: 0.9115623520236205\n",
      "Testing Accuracy: 0.9080882352941176\n",
      "Classification Report:\n",
      "               precision    recall  f1-score   support\n",
      "\n",
      "          -1       0.86      0.97      0.91      4317\n",
      "           1       0.97      0.85      0.91      4659\n",
      "\n",
      "    accuracy                           0.91      8976\n",
      "   macro avg       0.91      0.91      0.91      8976\n",
      "weighted avg       0.92      0.91      0.91      8976\n",
      "\n"
     ]
    }
   ],
   "source": [
    "# Predicting labels for the training set\n",
    "X_train_prediction = custom_svm_classifier.predict(X_train_vectorized.toarray(), threshold=0.6)\n",
    "\n",
    "# Calculate training accuracy\n",
    "training_accuracy = accuracy_score(y_train, X_train_prediction)\n",
    "print('Training Accuracy:', training_accuracy)\n",
    "\n",
    "# Predicting labels for the test set\n",
    "X_test_prediction = custom_svm_classifier.predict(X_test_vectorized.toarray(), threshold=0.6)\n",
    "\n",
    "# Calculate testing accuracy\n",
    "testing_accuracy = accuracy_score(y_test, X_test_prediction)\n",
    "print('Testing Accuracy:', testing_accuracy)\n",
    "\n",
    "print(\"Classification Report:\\n\", classification_report(y_test, y_pred))"
   ]
  },
  {
   "cell_type": "code",
   "execution_count": 29,
   "id": "0aa1d83d",
   "metadata": {},
   "outputs": [
    {
     "name": "stdout",
     "output_type": "stream",
     "text": [
      "Confusion Matrix:\n",
      " [[4205  112]\n",
      " [ 713 3946]]\n"
     ]
    }
   ],
   "source": [
    "\n",
    "print(\"Confusion Matrix:\\n\", confusion_matrix(y_test, y_pred))"
   ]
  },
  {
   "cell_type": "code",
   "execution_count": 14,
   "id": "0ecef957",
   "metadata": {},
   "outputs": [],
   "source": [
    "# import pickle\n",
    "# filename = 'model.pkl'\n",
    "# pickle.dump(custom_svm_classifier, open(filename, 'wb'))"
   ]
  },
  {
   "cell_type": "code",
   "execution_count": 16,
   "id": "a039f134",
   "metadata": {},
   "outputs": [
    {
     "data": {
      "image/png": "[encoded data removed]",
      "text/plain": [
       "<Figure size 800x600 with 1 Axes>"
      ]
     },
     "metadata": {},
     "output_type": "display_data"
    }
   ],
   "source": [
    "import seaborn as sns\n",
    "import matplotlib.pyplot as plt\n",
    "\n",
    "#Calculate confusion matrix\n",
    "conf_matrix = confusion_matrix(y_test, y_pred)\n",
    "\n",
    "#Plotting the confusion matrix as a heatmap\n",
    "plt.figure(figsize=(8,6))\n",
    "sns.heatmap(conf_matrix, annot=True, fmt='d', cmap='Blues', cbar=False)\n",
    "plt.title('Confusion Matrix - SVM Classifier')\n",
    "plt.xlabel('Predicted Labels')\n",
    "plt.ylabel('True Labels')\n",
    "plt.show()"
   ]
  },
  {
   "cell_type": "code",
   "execution_count": null,
   "id": "4593e393",
   "metadata": {},
   "outputs": [],
   "source": []
  }
 ],
 "metadata": {
  "kernelspec": {
   "display_name": "Python 3 (ipykernel)",
   "language": "python",
   "name": "python3"
  },
  "language_info": {
   "codemirror_mode": {
    "name": "ipython",
    "version": 3
   },
   "file_extension": ".py",
   "mimetype": "text/x-python",
   "name": "python",
   "nbconvert_exporter": "python",
   "pygments_lexer": "ipython3",
   "version": "3.11.5"
  }
 },
 "nbformat": 4,
 "nbformat_minor": 5
}
