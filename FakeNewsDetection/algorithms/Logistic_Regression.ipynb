{
 "cells": [
  {
   "cell_type": "code",
   "execution_count": 1,
   "id": "638ba874",
   "metadata": {},
   "outputs": [],
   "source": [
    "import numpy as np\n",
    "from sklearn.model_selection import train_test_split\n",
    "from sklearn.metrics import accuracy_score, classification_report, confusion_matrix\n",
    "from sklearn.feature_extraction.text import TfidfVectorizer\n",
    "from scipy.sparse import csr_matrix\n",
    "import scipy.sparse as sp"
   ]
  },
  {
   "cell_type": "code",
   "execution_count": 2,
   "id": "c7ac6e52",
   "metadata": {},
   "outputs": [],
   "source": [
    "\n",
    "from scipy.sparse import issparse\n",
    "\n",
    "class Logistic_Regression:\n",
    "    def __init__(self, learning_rate=0.01, iterations=100, batch_size=32):\n",
    "        self.learning_rate = learning_rate\n",
    "        self.iterations = iterations\n",
    "        self.batch_size = batch_size\n",
    "\n",
    "    def fit(self, X, y):\n",
    "        self.m, self.n = X.shape\n",
    "        self.weights = np.zeros(self.n)\n",
    "        self.bias = 0\n",
    "\n",
    "        for _ in range(self.iterations):\n",
    "            # Shuffle the data and split into mini-batches\n",
    "            indices = np.random.permutation(self.m)\n",
    "            X_shuffled = X[indices]\n",
    "            y_shuffled = y[indices]\n",
    "\n",
    "            for i in range(0, self.m, self.batch_size):\n",
    "                # Select mini-batch\n",
    "                X_mini_batch = X_shuffled[i:i+self.batch_size]\n",
    "                y_mini_batch = y_shuffled[i:i+self.batch_size]\n",
    "\n",
    "                # Linear combination of input features and weights\n",
    "                z = X_mini_batch.dot(self.weights) + self.bias\n",
    "\n",
    "                # Apply sigmoid function\n",
    "                predictions = self.sigmoid(z)\n",
    "\n",
    "                # Update weights and bias using gradient descent\n",
    "                error = y_mini_batch - predictions\n",
    "                gradient_weights = X_mini_batch.T.dot(error) / self.batch_size\n",
    "                gradient_bias = np.sum(error) / self.batch_size\n",
    "\n",
    "                # Ensure that the data types are compatible\n",
    "                if issparse(X_mini_batch):\n",
    "                    self.weights = self.weights + self.learning_rate * gradient_weights.flatten()\n",
    "                else:\n",
    "                    self.weights = (self.weights + self.learning_rate * gradient_weights).astype(float)\n",
    "                    self.bias += self.learning_rate * gradient_bias\n",
    "    \n",
    "    def sigmoid(self, z):\n",
    "        if issparse(z):\n",
    "            # If input is a sparse matrix, apply sigmoid element-wise\n",
    "            return 1 / (1 + np.exp(-z.A))\n",
    "        else:\n",
    "            # If input is a dense array, use the original implementation\n",
    "            return 1 / (1 + np.exp(-z))\n",
    "    def predict(self, X):\n",
    "        z = X.dot(self.weights) + self.bias\n",
    "        return np.round(self.sigmoid(z)).astype(int)\n"
   ]
  },
  {
   "cell_type": "code",
   "execution_count": 3,
   "id": "9d9768dc",
   "metadata": {},
   "outputs": [],
   "source": [
    "import pandas as pd\n",
    "true_data = pd.read_csv(r'C:/Users/user/Desktop/Fake-News-Detection-UsingMachineLearning1/Fake-News-Detection-UsingMachineLearning/Fake-News-Detection-UsingMachineLearning-master/FakeNewsDetection/processedTrue.csv')\n",
    "fake_data = pd.read_csv(r'C:/Users/user/Desktop/Fake-News-Detection-UsingMachineLearning1/Fake-News-Detection-UsingMachineLearning/Fake-News-Detection-UsingMachineLearning-master/FakeNewsDetection/processedFake.csv')\n",
    "data = pd.concat([true_data, fake_data], ignore_index=True, sort=False)\n",
    "data.rename (columns= {0: 'index'}, inplace=True)\n",
    "data.columns = ['index', 'label', 'content']\n"
   ]
  },
  {
   "cell_type": "code",
   "execution_count": 4,
   "id": "80d4987f",
   "metadata": {
    "scrolled": true
   },
   "outputs": [
    {
     "data": {
      "text/html": [
       "<div>\n",
       "<style scoped>\n",
       "    .dataframe tbody tr th:only-of-type {\n",
       "        vertical-align: middle;\n",
       "    }\n",
       "\n",
       "    .dataframe tbody tr th {\n",
       "        vertical-align: top;\n",
       "    }\n",
       "\n",
       "    .dataframe thead th {\n",
       "        text-align: right;\n",
       "    }\n",
       "</style>\n",
       "<table border=\"1\" class=\"dataframe\">\n",
       "  <thead>\n",
       "    <tr style=\"text-align: right;\">\n",
       "      <th></th>\n",
       "      <th>index</th>\n",
       "      <th>label</th>\n",
       "      <th>content</th>\n",
       "    </tr>\n",
       "  </thead>\n",
       "  <tbody>\n",
       "    <tr>\n",
       "      <th>0</th>\n",
       "      <td>0</td>\n",
       "      <td>0</td>\n",
       "      <td>u budget fight loom republicans flip fiscal sc...</td>\n",
       "    </tr>\n",
       "    <tr>\n",
       "      <th>1</th>\n",
       "      <td>1</td>\n",
       "      <td>0</td>\n",
       "      <td>u military accept transgender recruit monday p...</td>\n",
       "    </tr>\n",
       "    <tr>\n",
       "      <th>2</th>\n",
       "      <td>2</td>\n",
       "      <td>0</td>\n",
       "      <td>senior u republican senator let mr mueller job...</td>\n",
       "    </tr>\n",
       "    <tr>\n",
       "      <th>3</th>\n",
       "      <td>3</td>\n",
       "      <td>0</td>\n",
       "      <td>fbi russia probe help australian diplomat tip ...</td>\n",
       "    </tr>\n",
       "    <tr>\n",
       "      <th>4</th>\n",
       "      <td>4</td>\n",
       "      <td>0</td>\n",
       "      <td>trump want postal service charge much amazon s...</td>\n",
       "    </tr>\n",
       "  </tbody>\n",
       "</table>\n",
       "</div>"
      ],
      "text/plain": [
       "   index  label                                            content\n",
       "0      0      0  u budget fight loom republicans flip fiscal sc...\n",
       "1      1      0  u military accept transgender recruit monday p...\n",
       "2      2      0  senior u republican senator let mr mueller job...\n",
       "3      3      0  fbi russia probe help australian diplomat tip ...\n",
       "4      4      0  trump want postal service charge much amazon s..."
      ]
     },
     "execution_count": 4,
     "metadata": {},
     "output_type": "execute_result"
    }
   ],
   "source": [
    "data.head()"
   ]
  },
  {
   "cell_type": "code",
   "execution_count": 5,
   "id": "f5d3bd64",
   "metadata": {},
   "outputs": [
    {
     "data": {
      "text/plain": [
       "index      0\n",
       "label      0\n",
       "content    0\n",
       "dtype: int64"
      ]
     },
     "execution_count": 5,
     "metadata": {},
     "output_type": "execute_result"
    }
   ],
   "source": [
    "data.isnull().sum()"
   ]
  },
  {
   "cell_type": "code",
   "execution_count": 6,
   "id": "7e6deb3d",
   "metadata": {},
   "outputs": [],
   "source": [
    "X = data['content']\n",
    "y = data['label']"
   ]
  },
  {
   "cell_type": "code",
   "execution_count": 7,
   "id": "13d66373",
   "metadata": {},
   "outputs": [],
   "source": [
    "X_train, X_test, y_train, y_test = train_test_split(X, y, test_size=0.1, shuffle=True, random_state=1)"
   ]
  },
  {
   "cell_type": "code",
   "execution_count": 8,
   "id": "ce4770e0",
   "metadata": {},
   "outputs": [],
   "source": [
    "#Using Vectorizer\n",
    "tfidf_vectorizer=TfidfVectorizer(stop_words='english', max_df=0.7)\n",
    "X_train=tfidf_vectorizer.fit_transform(X_train) \n",
    "X_test=tfidf_vectorizer.transform(X_test)"
   ]
  },
  {
   "cell_type": "markdown",
   "id": "607d81c2",
   "metadata": {},
   "source": [
    "Logistic Regression"
   ]
  },
  {
   "cell_type": "code",
   "execution_count": 9,
   "id": "237ffa21",
   "metadata": {},
   "outputs": [],
   "source": [
    "model=Logistic_Regression()"
   ]
  },
  {
   "cell_type": "code",
   "execution_count": 10,
   "id": "6b6daf9e",
   "metadata": {},
   "outputs": [],
   "source": [
    "X_train_sparse = csr_matrix(X_train)"
   ]
  },
  {
   "cell_type": "code",
   "execution_count": 11,
   "id": "f3ac58a7",
   "metadata": {},
   "outputs": [],
   "source": [
    "# Initialize logistic regression model\n",
    "model = Logistic_Regression(learning_rate=0.01, iterations=100, batch_size=32)\n"
   ]
  },
  {
   "cell_type": "code",
   "execution_count": 12,
   "id": "447367c8",
   "metadata": {
    "scrolled": true
   },
   "outputs": [],
   "source": [
    "\n",
    "# Convert y to a NumPy array\n",
    "y_train_array = y_train.to_numpy()\n",
    "\n",
    "# Train the model using mini-batch training\n",
    "model.fit(X_train, y_train_array)"
   ]
  },
  {
   "cell_type": "code",
   "execution_count": 13,
   "id": "f182ad7d",
   "metadata": {},
   "outputs": [
    {
     "name": "stdout",
     "output_type": "stream",
     "text": [
      "Accuracy: 0.946301247771836\n"
     ]
    }
   ],
   "source": [
    "# Predict on the test set\n",
    "X_test_sparse = csr_matrix(X_test)\n",
    "y_pred = model.predict(X_test_sparse)\n",
    "\n",
    "# Evaluate accuracy\n",
    "accuracy = accuracy_score(y_test, y_pred)\n",
    "\n",
    "print(\"Accuracy:\", accuracy)\n",
    "\n",
    "\n"
   ]
  },
  {
   "cell_type": "code",
   "execution_count": 14,
   "id": "dc25b869",
   "metadata": {},
   "outputs": [
    {
     "name": "stdout",
     "output_type": "stream",
     "text": [
      "Training Accuracy: 0.9407511946322018\n",
      "Testing Accuracy: 0.946301247771836\n",
      "Classification Report:\n",
      "               precision    recall  f1-score   support\n",
      "\n",
      "           0       0.94      0.95      0.94      2097\n",
      "           1       0.95      0.94      0.95      2391\n",
      "\n",
      "    accuracy                           0.95      4488\n",
      "   macro avg       0.95      0.95      0.95      4488\n",
      "weighted avg       0.95      0.95      0.95      4488\n",
      "\n",
      "Confusion Matrix:\n",
      " [[1989  108]\n",
      " [ 133 2258]]\n"
     ]
    }
   ],
   "source": [
    "# Predict on the training set\n",
    "X_train_prediction = model.predict(X_train_sparse)\n",
    "\n",
    "# Calculate training accuracy\n",
    "training_accuracy = accuracy_score(y_train, X_train_prediction)\n",
    "print('Training Accuracy:', training_accuracy)\n",
    "\n",
    "# Predict on the test set\n",
    "X_test_prediction = model.predict(X_test_sparse)\n",
    "\n",
    "# Calculate testing accuracy\n",
    "testing_accuracy = accuracy_score(y_test, X_test_prediction)\n",
    "print('Testing Accuracy:', testing_accuracy)\n",
    "\n",
    "# Print additional metrics\n",
    "print(\"Classification Report:\\n\", classification_report(y_test, y_pred))\n",
    "print(\"Confusion Matrix:\\n\", confusion_matrix(y_test, y_pred))"
   ]
  },
  {
   "cell_type": "code",
   "execution_count": 15,
   "id": "823ab07c",
   "metadata": {},
   "outputs": [],
   "source": [
    "# import pickle\n",
    "# filename = 'LRmodel.pkl'\n",
    "# pickle.dump(model, open(filename, 'wb'))"
   ]
  },
  {
   "cell_type": "code",
   "execution_count": 16,
   "id": "8d959f8e",
   "metadata": {},
   "outputs": [
    {
     "data": {
      "image/png": "[encoded data removed]",
      "text/plain": [
       "<Figure size 800x600 with 1 Axes>"
      ]
     },
     "metadata": {},
     "output_type": "display_data"
    }
   ],
   "source": [
    "import seaborn as sns\n",
    "import matplotlib.pyplot as plt\n",
    "\n",
    "#Calculate confusion matrix\n",
    "conf_matrix = confusion_matrix(y_test, y_pred)\n",
    "\n",
    "#Plotting the confusion matrix as a heatmap\n",
    "plt.figure(figsize=(8,6))\n",
    "sns.heatmap(conf_matrix, annot=True, fmt='d', cmap='Blues', cbar=False)\n",
    "plt.title('Confusion Matrix - LR Classifier')\n",
    "plt.xlabel('Predicted Labels')\n",
    "plt.ylabel('True Labels')\n",
    "plt.show()"
   ]
  },
  {
   "cell_type": "code",
   "execution_count": null,
   "id": "e64983c4",
   "metadata": {},
   "outputs": [],
   "source": []
  }
 ],
 "metadata": {
  "kernelspec": {
   "display_name": "base",
   "language": "python",
   "name": "python3"
  },
  "language_info": {
   "codemirror_mode": {
    "name": "ipython",
    "version": 3
   },
   "file_extension": ".py",
   "mimetype": "text/x-python",
   "name": "python",
   "nbconvert_exporter": "python",
   "pygments_lexer": "ipython3",
   "version": "3.12.7"
  }
 },
 "nbformat": 4,
 "nbformat_minor": 5
}
