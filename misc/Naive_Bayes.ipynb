{
 "cells": [
  {
   "cell_type": "code",
   "execution_count": 1,
   "id": "cbf101ac",
   "metadata": {},
   "outputs": [],
   "source": [
    "import pandas as pd\n",
    "import numpy as np\n",
    "from sklearn.model_selection import train_test_split\n",
    "from sklearn.metrics import accuracy_score, classification_report, confusion_matrix\n",
    "from sklearn.feature_extraction.text import TfidfVectorizer"
   ]
  },
  {
   "cell_type": "code",
   "execution_count": 2,
   "id": "24ec8206",
   "metadata": {},
   "outputs": [],
   "source": [
    "class CustomNaiveBayes:\n",
    "    def __init__(self):\n",
    "        self.class_prior_ = None\n",
    "        self.feature_log_prob_ = None\n",
    "    \n",
    "    def fit(self, X, y):\n",
    "        n_samples, n_features = X.shape\n",
    "        n_classes = len(np.unique(y))        \n",
    "        self.class_prior_ = np.zeros(n_classes)\n",
    "        self.feature_log_prob_ = np.zeros((n_classes, n_features))\n",
    "        \n",
    "        \n",
    "        for c in range(n_classes):\n",
    "            self.class_prior_[c] = np.sum(y == c) / n_samples\n",
    "            class_samples = X[y == c]\n",
    "            self.feature_log_prob_[c] = np.log((np.sum(class_samples, axis=0) + 1) / (np.sum(class_samples) + n_features))\n",
    "    \n",
    "    def predict(self, X):\n",
    "        posterior = np.dot(X, self.feature_log_prob_.T) + np.log(self.class_prior_)\n",
    "        return np.argmax(posterior, axis=1)"
   ]
  },
  {
   "cell_type": "code",
   "execution_count": 3,
   "id": "06967544",
   "metadata": {},
   "outputs": [],
   "source": [
    "# Load the datasets\n",
    "true_data = pd.read_csv('processedTrue.csv')\n",
    "fake_data = pd.read_csv('processedFake.csv')"
   ]
  },
  {
   "cell_type": "code",
   "execution_count": 4,
   "id": "5a32e58c",
   "metadata": {},
   "outputs": [],
   "source": [
    "# Concatenate the datasets\n",
    "data = pd.concat([true_data, fake_data], ignore_index=True, sort=False)\n",
    "\n",
    "# Rename the columns\n",
    "data.columns = ['index', 'label', 'content']"
   ]
  },
  {
   "cell_type": "code",
   "execution_count": 5,
   "id": "8ef0d899",
   "metadata": {},
   "outputs": [],
   "source": [
    "# Extract features and labels\n",
    "X = data['content']\n",
    "y = data['label']"
   ]
  },
  {
   "cell_type": "code",
   "execution_count": 6,
   "id": "6e127fd9",
   "metadata": {},
   "outputs": [],
   "source": [
    "# Splitting the data into training and testing sets\n",
    "# Assuming 80% for training and 20% for testing\n",
    "X_train, X_test, y_train, y_test = train_test_split(X, y, test_size=0.2, random_state=42)"
   ]
  },
  {
   "cell_type": "code",
   "execution_count": 7,
   "id": "d593e8f2",
   "metadata": {},
   "outputs": [],
   "source": [
    "# Vectorizing the text data\n",
    "vectorizer = TfidfVectorizer()\n",
    "X_train_vectorized = vectorizer.fit_transform(X_train)\n",
    "X_test_vectorized = vectorizer.transform(X_test)"
   ]
  },
  {
   "cell_type": "code",
   "execution_count": 8,
   "id": "f9d13796",
   "metadata": {},
   "outputs": [],
   "source": [
    "# Create an instance of the CustomNaiveBayes classifier\n",
    "custom_nb_classifier = CustomNaiveBayes()\n",
    "\n",
    "# Train the classifier\n",
    "custom_nb_classifier.fit(X_train_vectorized.toarray(), y_train)"
   ]
  },
  {
   "cell_type": "code",
   "execution_count": 9,
   "id": "14492680",
   "metadata": {},
   "outputs": [],
   "source": [
    "# Predict on the test set\n",
    "y_pred = custom_nb_classifier.predict(X_test_vectorized.toarray())"
   ]
  },
  {
   "cell_type": "code",
   "execution_count": 10,
   "id": "6de44d46",
   "metadata": {},
   "outputs": [
    {
     "name": "stdout",
     "output_type": "stream",
     "text": [
      "Accuracy: 0.9336007130124777\n"
     ]
    }
   ],
   "source": [
    "# Calculate accuracy\n",
    "accuracy = accuracy_score(y_test, y_pred)\n",
    "print(\"Accuracy:\", accuracy)"
   ]
  },
  {
   "cell_type": "code",
   "execution_count": 11,
   "id": "349dd486",
   "metadata": {},
   "outputs": [
    {
     "name": "stdout",
     "output_type": "stream",
     "text": [
      "Training Accuracy: 0.9404751956770007\n",
      "Testing Accuracy: 0.9336007130124777\n",
      "Classification Report:\n",
      "               precision    recall  f1-score   support\n",
      "\n",
      "           0       0.94      0.92      0.93      4317\n",
      "           1       0.93      0.95      0.94      4659\n",
      "\n",
      "    accuracy                           0.93      8976\n",
      "   macro avg       0.93      0.93      0.93      8976\n",
      "weighted avg       0.93      0.93      0.93      8976\n",
      "\n"
     ]
    }
   ],
   "source": [
    "# Predict on the training set\n",
    "X_train_prediction = custom_nb_classifier.predict(X_train_vectorized.toarray())\n",
    "\n",
    "# Calculate training accuracy\n",
    "training_accuracy = accuracy_score(y_train, X_train_prediction)\n",
    "print('Training Accuracy:', training_accuracy)\n",
    "\n",
    "# Predict on the test set\n",
    "X_test_prediction = custom_nb_classifier.predict(X_test_vectorized.toarray())\n",
    "\n",
    "# Calculate testing accuracy\n",
    "testing_accuracy = accuracy_score(y_test, X_test_prediction)\n",
    "print('Testing Accuracy:', testing_accuracy)\n",
    "\n",
    "\n",
    "print(\"Classification Report:\\n\", classification_report(y_test, y_pred))\n"
   ]
  },
  {
   "cell_type": "code",
   "execution_count": 12,
   "id": "f0e2e388",
   "metadata": {},
   "outputs": [
    {
     "name": "stdout",
     "output_type": "stream",
     "text": [
      "Confusion Matrix:\n",
      " [[3975  342]\n",
      " [ 254 4405]]\n"
     ]
    }
   ],
   "source": [
    "print(\"Confusion Matrix:\\n\", confusion_matrix(y_test, y_pred))"
   ]
  },
  {
   "cell_type": "code",
   "execution_count": 13,
   "id": "cc4b3ea9",
   "metadata": {},
   "outputs": [
    {
     "data": {
      "image/png": "[encoded data removed]",
      "text/plain": [
       "<Figure size 800x600 with 1 Axes>"
      ]
     },
     "metadata": {},
     "output_type": "display_data"
    }
   ],
   "source": [
    "import seaborn as sns\n",
    "import matplotlib.pyplot as plt\n",
    "\n",
    "#Calculate confusion matrix\n",
    "conf_matrix = confusion_matrix(y_test, y_pred)\n",
    "\n",
    "#Plotting the confusion matrix as a heatmap\n",
    "plt.figure(figsize=(8,6))\n",
    "sns.heatmap(conf_matrix, annot=True, fmt='d', cmap='Blues', cbar=False)\n",
    "plt.title('Confusion Matrix - NB Classifier')\n",
    "plt.xlabel('Predicted Labels')\n",
    "plt.ylabel('True Labels')\n",
    "plt.show()"
   ]
  },
  {
   "cell_type": "code",
   "execution_count": null,
   "id": "4fb951ae",
   "metadata": {},
   "outputs": [],
   "source": []
  }
 ],
 "metadata": {
  "kernelspec": {
   "display_name": "Python 3 (ipykernel)",
   "language": "python",
   "name": "python3"
  },
  "language_info": {
   "codemirror_mode": {
    "name": "ipython",
    "version": 3
   },
   "file_extension": ".py",
   "mimetype": "text/x-python",
   "name": "python",
   "nbconvert_exporter": "python",
   "pygments_lexer": "ipython3",
   "version": "3.11.5"
  }
 },
 "nbformat": 4,
 "nbformat_minor": 5
}
